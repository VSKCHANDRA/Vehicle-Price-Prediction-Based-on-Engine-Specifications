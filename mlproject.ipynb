{
 "cells": [
  {
   "cell_type": "code",
   "execution_count": 1,
   "id": "85ec8904-cdc9-4f53-a687-77d669b2dd48",
   "metadata": {},
   "outputs": [],
   "source": [
    "# Importing Libraries\n",
    "import pandas as pd\n",
    "import numpy as np\n",
    "import matplotlib.pyplot as plt\n",
    "import seaborn as sns\n",
    "from sklearn.model_selection import train_test_split, GridSearchCV\n",
    "from sklearn.linear_model import LinearRegression, Ridge, Lasso\n",
    "from sklearn.ensemble import RandomForestRegressor\n",
    "from sklearn.metrics import mean_absolute_error, mean_squared_error, r2_score\n",
    "from sklearn.preprocessing import StandardScaler"
   ]
  },
  {
   "cell_type": "code",
   "execution_count": 2,
   "id": "0e160aa1-aacc-42f0-a124-6fc1b26af362",
   "metadata": {
    "scrolled": true
   },
   "outputs": [
    {
     "name": "stdout",
     "output_type": "stream",
     "text": [
      "Dataset Shape: (11914, 16)\n"
     ]
    },
    {
     "data": {
      "text/html": [
       "<div>\n",
       "<style scoped>\n",
       "    .dataframe tbody tr th:only-of-type {\n",
       "        vertical-align: middle;\n",
       "    }\n",
       "\n",
       "    .dataframe tbody tr th {\n",
       "        vertical-align: top;\n",
       "    }\n",
       "\n",
       "    .dataframe thead th {\n",
       "        text-align: right;\n",
       "    }\n",
       "</style>\n",
       "<table border=\"1\" class=\"dataframe\">\n",
       "  <thead>\n",
       "    <tr style=\"text-align: right;\">\n",
       "      <th></th>\n",
       "      <th>Make</th>\n",
       "      <th>Model</th>\n",
       "      <th>Year</th>\n",
       "      <th>Engine Fuel Type</th>\n",
       "      <th>Engine HP</th>\n",
       "      <th>Engine Cylinders</th>\n",
       "      <th>Transmission Type</th>\n",
       "      <th>Driven_Wheels</th>\n",
       "      <th>Number of Doors</th>\n",
       "      <th>Market Category</th>\n",
       "      <th>Vehicle Size</th>\n",
       "      <th>Vehicle Style</th>\n",
       "      <th>highway MPG</th>\n",
       "      <th>city mpg</th>\n",
       "      <th>Popularity</th>\n",
       "      <th>MSRP</th>\n",
       "    </tr>\n",
       "  </thead>\n",
       "  <tbody>\n",
       "    <tr>\n",
       "      <th>0</th>\n",
       "      <td>BMW</td>\n",
       "      <td>1 Series M</td>\n",
       "      <td>2011</td>\n",
       "      <td>premium unleaded (required)</td>\n",
       "      <td>335.0</td>\n",
       "      <td>6.0</td>\n",
       "      <td>MANUAL</td>\n",
       "      <td>rear wheel drive</td>\n",
       "      <td>2.0</td>\n",
       "      <td>Factory Tuner,Luxury,High-Performance</td>\n",
       "      <td>Compact</td>\n",
       "      <td>Coupe</td>\n",
       "      <td>26</td>\n",
       "      <td>19</td>\n",
       "      <td>3916</td>\n",
       "      <td>46135</td>\n",
       "    </tr>\n",
       "    <tr>\n",
       "      <th>1</th>\n",
       "      <td>BMW</td>\n",
       "      <td>1 Series</td>\n",
       "      <td>2011</td>\n",
       "      <td>premium unleaded (required)</td>\n",
       "      <td>300.0</td>\n",
       "      <td>6.0</td>\n",
       "      <td>MANUAL</td>\n",
       "      <td>rear wheel drive</td>\n",
       "      <td>2.0</td>\n",
       "      <td>Luxury,Performance</td>\n",
       "      <td>Compact</td>\n",
       "      <td>Convertible</td>\n",
       "      <td>28</td>\n",
       "      <td>19</td>\n",
       "      <td>3916</td>\n",
       "      <td>40650</td>\n",
       "    </tr>\n",
       "    <tr>\n",
       "      <th>2</th>\n",
       "      <td>BMW</td>\n",
       "      <td>1 Series</td>\n",
       "      <td>2011</td>\n",
       "      <td>premium unleaded (required)</td>\n",
       "      <td>300.0</td>\n",
       "      <td>6.0</td>\n",
       "      <td>MANUAL</td>\n",
       "      <td>rear wheel drive</td>\n",
       "      <td>2.0</td>\n",
       "      <td>Luxury,High-Performance</td>\n",
       "      <td>Compact</td>\n",
       "      <td>Coupe</td>\n",
       "      <td>28</td>\n",
       "      <td>20</td>\n",
       "      <td>3916</td>\n",
       "      <td>36350</td>\n",
       "    </tr>\n",
       "    <tr>\n",
       "      <th>3</th>\n",
       "      <td>BMW</td>\n",
       "      <td>1 Series</td>\n",
       "      <td>2011</td>\n",
       "      <td>premium unleaded (required)</td>\n",
       "      <td>230.0</td>\n",
       "      <td>6.0</td>\n",
       "      <td>MANUAL</td>\n",
       "      <td>rear wheel drive</td>\n",
       "      <td>2.0</td>\n",
       "      <td>Luxury,Performance</td>\n",
       "      <td>Compact</td>\n",
       "      <td>Coupe</td>\n",
       "      <td>28</td>\n",
       "      <td>18</td>\n",
       "      <td>3916</td>\n",
       "      <td>29450</td>\n",
       "    </tr>\n",
       "    <tr>\n",
       "      <th>4</th>\n",
       "      <td>BMW</td>\n",
       "      <td>1 Series</td>\n",
       "      <td>2011</td>\n",
       "      <td>premium unleaded (required)</td>\n",
       "      <td>230.0</td>\n",
       "      <td>6.0</td>\n",
       "      <td>MANUAL</td>\n",
       "      <td>rear wheel drive</td>\n",
       "      <td>2.0</td>\n",
       "      <td>Luxury</td>\n",
       "      <td>Compact</td>\n",
       "      <td>Convertible</td>\n",
       "      <td>28</td>\n",
       "      <td>18</td>\n",
       "      <td>3916</td>\n",
       "      <td>34500</td>\n",
       "    </tr>\n",
       "  </tbody>\n",
       "</table>\n",
       "</div>"
      ],
      "text/plain": [
       "  Make       Model  Year             Engine Fuel Type  Engine HP  \\\n",
       "0  BMW  1 Series M  2011  premium unleaded (required)      335.0   \n",
       "1  BMW    1 Series  2011  premium unleaded (required)      300.0   \n",
       "2  BMW    1 Series  2011  premium unleaded (required)      300.0   \n",
       "3  BMW    1 Series  2011  premium unleaded (required)      230.0   \n",
       "4  BMW    1 Series  2011  premium unleaded (required)      230.0   \n",
       "\n",
       "   Engine Cylinders Transmission Type     Driven_Wheels  Number of Doors  \\\n",
       "0               6.0            MANUAL  rear wheel drive              2.0   \n",
       "1               6.0            MANUAL  rear wheel drive              2.0   \n",
       "2               6.0            MANUAL  rear wheel drive              2.0   \n",
       "3               6.0            MANUAL  rear wheel drive              2.0   \n",
       "4               6.0            MANUAL  rear wheel drive              2.0   \n",
       "\n",
       "                         Market Category Vehicle Size Vehicle Style  \\\n",
       "0  Factory Tuner,Luxury,High-Performance      Compact         Coupe   \n",
       "1                     Luxury,Performance      Compact   Convertible   \n",
       "2                Luxury,High-Performance      Compact         Coupe   \n",
       "3                     Luxury,Performance      Compact         Coupe   \n",
       "4                                 Luxury      Compact   Convertible   \n",
       "\n",
       "   highway MPG  city mpg  Popularity   MSRP  \n",
       "0           26        19        3916  46135  \n",
       "1           28        19        3916  40650  \n",
       "2           28        20        3916  36350  \n",
       "3           28        18        3916  29450  \n",
       "4           28        18        3916  34500  "
      ]
     },
     "execution_count": 2,
     "metadata": {},
     "output_type": "execute_result"
    }
   ],
   "source": [
    "# Load the dataset\n",
    "df = pd.read_csv('data.csv')\n",
    "\n",
    "# Check the shape of the dataset and first few rows\n",
    "print(\"Dataset Shape:\", df.shape)\n",
    "df.head()"
   ]
  },
  {
   "cell_type": "code",
   "execution_count": 3,
   "id": "340ea29f-d8f3-420a-a644-381c5c717c49",
   "metadata": {
    "scrolled": true
   },
   "outputs": [
    {
     "name": "stdout",
     "output_type": "stream",
     "text": [
      "Dataset Information:\n",
      "<class 'pandas.core.frame.DataFrame'>\n",
      "RangeIndex: 11914 entries, 0 to 11913\n",
      "Data columns (total 16 columns):\n",
      " #   Column             Non-Null Count  Dtype  \n",
      "---  ------             --------------  -----  \n",
      " 0   Make               11914 non-null  object \n",
      " 1   Model              11914 non-null  object \n",
      " 2   Year               11914 non-null  int64  \n",
      " 3   Engine Fuel Type   11911 non-null  object \n",
      " 4   Engine HP          11845 non-null  float64\n",
      " 5   Engine Cylinders   11884 non-null  float64\n",
      " 6   Transmission Type  11914 non-null  object \n",
      " 7   Driven_Wheels      11914 non-null  object \n",
      " 8   Number of Doors    11908 non-null  float64\n",
      " 9   Market Category    8172 non-null   object \n",
      " 10  Vehicle Size       11914 non-null  object \n",
      " 11  Vehicle Style      11914 non-null  object \n",
      " 12  highway MPG        11914 non-null  int64  \n",
      " 13  city mpg           11914 non-null  int64  \n",
      " 14  Popularity         11914 non-null  int64  \n",
      " 15  MSRP               11914 non-null  int64  \n",
      "dtypes: float64(3), int64(5), object(8)\n",
      "memory usage: 1.5+ MB\n",
      "\n",
      "Basic Statistics:\n"
     ]
    },
    {
     "data": {
      "text/html": [
       "<div>\n",
       "<style scoped>\n",
       "    .dataframe tbody tr th:only-of-type {\n",
       "        vertical-align: middle;\n",
       "    }\n",
       "\n",
       "    .dataframe tbody tr th {\n",
       "        vertical-align: top;\n",
       "    }\n",
       "\n",
       "    .dataframe thead th {\n",
       "        text-align: right;\n",
       "    }\n",
       "</style>\n",
       "<table border=\"1\" class=\"dataframe\">\n",
       "  <thead>\n",
       "    <tr style=\"text-align: right;\">\n",
       "      <th></th>\n",
       "      <th>Year</th>\n",
       "      <th>Engine HP</th>\n",
       "      <th>Engine Cylinders</th>\n",
       "      <th>Number of Doors</th>\n",
       "      <th>highway MPG</th>\n",
       "      <th>city mpg</th>\n",
       "      <th>Popularity</th>\n",
       "      <th>MSRP</th>\n",
       "    </tr>\n",
       "  </thead>\n",
       "  <tbody>\n",
       "    <tr>\n",
       "      <th>count</th>\n",
       "      <td>11914.000000</td>\n",
       "      <td>11845.00000</td>\n",
       "      <td>11884.000000</td>\n",
       "      <td>11908.000000</td>\n",
       "      <td>11914.000000</td>\n",
       "      <td>11914.000000</td>\n",
       "      <td>11914.000000</td>\n",
       "      <td>1.191400e+04</td>\n",
       "    </tr>\n",
       "    <tr>\n",
       "      <th>mean</th>\n",
       "      <td>2010.384338</td>\n",
       "      <td>249.38607</td>\n",
       "      <td>5.628829</td>\n",
       "      <td>3.436093</td>\n",
       "      <td>26.637485</td>\n",
       "      <td>19.733255</td>\n",
       "      <td>1554.911197</td>\n",
       "      <td>4.059474e+04</td>\n",
       "    </tr>\n",
       "    <tr>\n",
       "      <th>std</th>\n",
       "      <td>7.579740</td>\n",
       "      <td>109.19187</td>\n",
       "      <td>1.780559</td>\n",
       "      <td>0.881315</td>\n",
       "      <td>8.863001</td>\n",
       "      <td>8.987798</td>\n",
       "      <td>1441.855347</td>\n",
       "      <td>6.010910e+04</td>\n",
       "    </tr>\n",
       "    <tr>\n",
       "      <th>min</th>\n",
       "      <td>1990.000000</td>\n",
       "      <td>55.00000</td>\n",
       "      <td>0.000000</td>\n",
       "      <td>2.000000</td>\n",
       "      <td>12.000000</td>\n",
       "      <td>7.000000</td>\n",
       "      <td>2.000000</td>\n",
       "      <td>2.000000e+03</td>\n",
       "    </tr>\n",
       "    <tr>\n",
       "      <th>25%</th>\n",
       "      <td>2007.000000</td>\n",
       "      <td>170.00000</td>\n",
       "      <td>4.000000</td>\n",
       "      <td>2.000000</td>\n",
       "      <td>22.000000</td>\n",
       "      <td>16.000000</td>\n",
       "      <td>549.000000</td>\n",
       "      <td>2.100000e+04</td>\n",
       "    </tr>\n",
       "    <tr>\n",
       "      <th>50%</th>\n",
       "      <td>2015.000000</td>\n",
       "      <td>227.00000</td>\n",
       "      <td>6.000000</td>\n",
       "      <td>4.000000</td>\n",
       "      <td>26.000000</td>\n",
       "      <td>18.000000</td>\n",
       "      <td>1385.000000</td>\n",
       "      <td>2.999500e+04</td>\n",
       "    </tr>\n",
       "    <tr>\n",
       "      <th>75%</th>\n",
       "      <td>2016.000000</td>\n",
       "      <td>300.00000</td>\n",
       "      <td>6.000000</td>\n",
       "      <td>4.000000</td>\n",
       "      <td>30.000000</td>\n",
       "      <td>22.000000</td>\n",
       "      <td>2009.000000</td>\n",
       "      <td>4.223125e+04</td>\n",
       "    </tr>\n",
       "    <tr>\n",
       "      <th>max</th>\n",
       "      <td>2017.000000</td>\n",
       "      <td>1001.00000</td>\n",
       "      <td>16.000000</td>\n",
       "      <td>4.000000</td>\n",
       "      <td>354.000000</td>\n",
       "      <td>137.000000</td>\n",
       "      <td>5657.000000</td>\n",
       "      <td>2.065902e+06</td>\n",
       "    </tr>\n",
       "  </tbody>\n",
       "</table>\n",
       "</div>"
      ],
      "text/plain": [
       "               Year    Engine HP  Engine Cylinders  Number of Doors  \\\n",
       "count  11914.000000  11845.00000      11884.000000     11908.000000   \n",
       "mean    2010.384338    249.38607          5.628829         3.436093   \n",
       "std        7.579740    109.19187          1.780559         0.881315   \n",
       "min     1990.000000     55.00000          0.000000         2.000000   \n",
       "25%     2007.000000    170.00000          4.000000         2.000000   \n",
       "50%     2015.000000    227.00000          6.000000         4.000000   \n",
       "75%     2016.000000    300.00000          6.000000         4.000000   \n",
       "max     2017.000000   1001.00000         16.000000         4.000000   \n",
       "\n",
       "        highway MPG      city mpg    Popularity          MSRP  \n",
       "count  11914.000000  11914.000000  11914.000000  1.191400e+04  \n",
       "mean      26.637485     19.733255   1554.911197  4.059474e+04  \n",
       "std        8.863001      8.987798   1441.855347  6.010910e+04  \n",
       "min       12.000000      7.000000      2.000000  2.000000e+03  \n",
       "25%       22.000000     16.000000    549.000000  2.100000e+04  \n",
       "50%       26.000000     18.000000   1385.000000  2.999500e+04  \n",
       "75%       30.000000     22.000000   2009.000000  4.223125e+04  \n",
       "max      354.000000    137.000000   5657.000000  2.065902e+06  "
      ]
     },
     "execution_count": 3,
     "metadata": {},
     "output_type": "execute_result"
    }
   ],
   "source": [
    "# Dataset Information and Description\n",
    "print(\"Dataset Information:\")\n",
    "df.info()\n",
    "\n",
    "print(\"\\nBasic Statistics:\")\n",
    "df.describe()"
   ]
  },
  {
   "cell_type": "markdown",
   "id": "41eae0fb-f8ce-4def-9cc7-c43a42aff573",
   "metadata": {},
   "source": [
    "## Feature Selection"
   ]
  },
  {
   "cell_type": "code",
   "execution_count": 5,
   "id": "29ce7a0d-cb7b-49e6-8b27-d8794c44e7aa",
   "metadata": {},
   "outputs": [
    {
     "name": "stdout",
     "output_type": "stream",
     "text": [
      "Selected features: ['Engine HP', 'Engine Cylinders', 'highway MPG', 'city mpg', 'Popularity']\n",
      "Target variable: MSRP\n"
     ]
    }
   ],
   "source": [
    "# Selecting features and target variable\n",
    "features = ['Engine HP', 'Engine Cylinders', 'highway MPG', 'city mpg', 'Popularity']\n",
    "target = 'MSRP'\n",
    "\n",
    "X = df[features]\n",
    "y = df[target]\n",
    "\n",
    "# Display the selected features and target variable\n",
    "print(\"Selected features:\", features)\n",
    "print(\"Target variable:\", target)"
   ]
  },
  {
   "cell_type": "markdown",
   "id": "48578a41-75de-496d-b6aa-b5f279897afc",
   "metadata": {},
   "source": [
    "## Handling Missing Data"
   ]
  },
  {
   "cell_type": "code",
   "execution_count": 7,
   "id": "851af52c-2edc-45fd-8f05-f3f753409e52",
   "metadata": {},
   "outputs": [
    {
     "data": {
      "text/plain": [
       "Make                    0\n",
       "Model                   0\n",
       "Year                    0\n",
       "Engine Fuel Type        0\n",
       "Engine HP               0\n",
       "Engine Cylinders        0\n",
       "Transmission Type       0\n",
       "Driven_Wheels           0\n",
       "Number of Doors         0\n",
       "Market Category      3742\n",
       "Vehicle Size            0\n",
       "Vehicle Style           0\n",
       "highway MPG             0\n",
       "city mpg                0\n",
       "Popularity              0\n",
       "MSRP                    0\n",
       "dtype: int64"
      ]
     },
     "execution_count": 7,
     "metadata": {},
     "output_type": "execute_result"
    }
   ],
   "source": [
    "# Handle missing data\n",
    "df['Engine HP'] = df['Engine HP'].fillna(df['Engine HP'].median())\n",
    "df['Engine Cylinders'] = df['Engine Cylinders'].fillna(df['Engine Cylinders'].median())\n",
    "df['Number of Doors'] = df['Number of Doors'].fillna(df['Number of Doors'].median())\n",
    "df['Engine Fuel Type'] = df['Engine Fuel Type'].fillna(df['Engine Fuel Type'].mode()[0])\n",
    "\n",
    "# Checking for missing data after imputation\n",
    "df.isnull().sum()"
   ]
  },
  {
   "cell_type": "markdown",
   "id": "7ae75b18-5d79-4135-a6a8-97dcbb559da4",
   "metadata": {},
   "source": [
    "## Outlier Removal and Feature Engineering"
   ]
  },
  {
   "cell_type": "code",
   "execution_count": 9,
   "id": "c91ecaed-4b8c-481c-848f-f42ac3466b30",
   "metadata": {},
   "outputs": [
    {
     "data": {
      "text/html": [
       "<div>\n",
       "<style scoped>\n",
       "    .dataframe tbody tr th:only-of-type {\n",
       "        vertical-align: middle;\n",
       "    }\n",
       "\n",
       "    .dataframe tbody tr th {\n",
       "        vertical-align: top;\n",
       "    }\n",
       "\n",
       "    .dataframe thead th {\n",
       "        text-align: right;\n",
       "    }\n",
       "</style>\n",
       "<table border=\"1\" class=\"dataframe\">\n",
       "  <thead>\n",
       "    <tr style=\"text-align: right;\">\n",
       "      <th></th>\n",
       "      <th>Make</th>\n",
       "      <th>Model</th>\n",
       "      <th>Year</th>\n",
       "      <th>Engine Fuel Type</th>\n",
       "      <th>Engine HP</th>\n",
       "      <th>Engine Cylinders</th>\n",
       "      <th>Transmission Type</th>\n",
       "      <th>Driven_Wheels</th>\n",
       "      <th>Number of Doors</th>\n",
       "      <th>Market Category</th>\n",
       "      <th>Vehicle Size</th>\n",
       "      <th>Vehicle Style</th>\n",
       "      <th>highway MPG</th>\n",
       "      <th>city mpg</th>\n",
       "      <th>Popularity</th>\n",
       "      <th>MSRP</th>\n",
       "      <th>Mileage Efficiency</th>\n",
       "    </tr>\n",
       "  </thead>\n",
       "  <tbody>\n",
       "    <tr>\n",
       "      <th>0</th>\n",
       "      <td>BMW</td>\n",
       "      <td>1 Series M</td>\n",
       "      <td>2011</td>\n",
       "      <td>premium unleaded (required)</td>\n",
       "      <td>335.0</td>\n",
       "      <td>6.0</td>\n",
       "      <td>MANUAL</td>\n",
       "      <td>rear wheel drive</td>\n",
       "      <td>2.0</td>\n",
       "      <td>Factory Tuner,Luxury,High-Performance</td>\n",
       "      <td>Compact</td>\n",
       "      <td>Coupe</td>\n",
       "      <td>26</td>\n",
       "      <td>19</td>\n",
       "      <td>3916</td>\n",
       "      <td>46135</td>\n",
       "      <td>22.5</td>\n",
       "    </tr>\n",
       "    <tr>\n",
       "      <th>1</th>\n",
       "      <td>BMW</td>\n",
       "      <td>1 Series</td>\n",
       "      <td>2011</td>\n",
       "      <td>premium unleaded (required)</td>\n",
       "      <td>300.0</td>\n",
       "      <td>6.0</td>\n",
       "      <td>MANUAL</td>\n",
       "      <td>rear wheel drive</td>\n",
       "      <td>2.0</td>\n",
       "      <td>Luxury,Performance</td>\n",
       "      <td>Compact</td>\n",
       "      <td>Convertible</td>\n",
       "      <td>28</td>\n",
       "      <td>19</td>\n",
       "      <td>3916</td>\n",
       "      <td>40650</td>\n",
       "      <td>23.5</td>\n",
       "    </tr>\n",
       "    <tr>\n",
       "      <th>2</th>\n",
       "      <td>BMW</td>\n",
       "      <td>1 Series</td>\n",
       "      <td>2011</td>\n",
       "      <td>premium unleaded (required)</td>\n",
       "      <td>300.0</td>\n",
       "      <td>6.0</td>\n",
       "      <td>MANUAL</td>\n",
       "      <td>rear wheel drive</td>\n",
       "      <td>2.0</td>\n",
       "      <td>Luxury,High-Performance</td>\n",
       "      <td>Compact</td>\n",
       "      <td>Coupe</td>\n",
       "      <td>28</td>\n",
       "      <td>20</td>\n",
       "      <td>3916</td>\n",
       "      <td>36350</td>\n",
       "      <td>24.0</td>\n",
       "    </tr>\n",
       "    <tr>\n",
       "      <th>3</th>\n",
       "      <td>BMW</td>\n",
       "      <td>1 Series</td>\n",
       "      <td>2011</td>\n",
       "      <td>premium unleaded (required)</td>\n",
       "      <td>230.0</td>\n",
       "      <td>6.0</td>\n",
       "      <td>MANUAL</td>\n",
       "      <td>rear wheel drive</td>\n",
       "      <td>2.0</td>\n",
       "      <td>Luxury,Performance</td>\n",
       "      <td>Compact</td>\n",
       "      <td>Coupe</td>\n",
       "      <td>28</td>\n",
       "      <td>18</td>\n",
       "      <td>3916</td>\n",
       "      <td>29450</td>\n",
       "      <td>23.0</td>\n",
       "    </tr>\n",
       "    <tr>\n",
       "      <th>4</th>\n",
       "      <td>BMW</td>\n",
       "      <td>1 Series</td>\n",
       "      <td>2011</td>\n",
       "      <td>premium unleaded (required)</td>\n",
       "      <td>230.0</td>\n",
       "      <td>6.0</td>\n",
       "      <td>MANUAL</td>\n",
       "      <td>rear wheel drive</td>\n",
       "      <td>2.0</td>\n",
       "      <td>Luxury</td>\n",
       "      <td>Compact</td>\n",
       "      <td>Convertible</td>\n",
       "      <td>28</td>\n",
       "      <td>18</td>\n",
       "      <td>3916</td>\n",
       "      <td>34500</td>\n",
       "      <td>23.0</td>\n",
       "    </tr>\n",
       "  </tbody>\n",
       "</table>\n",
       "</div>"
      ],
      "text/plain": [
       "  Make       Model  Year             Engine Fuel Type  Engine HP  \\\n",
       "0  BMW  1 Series M  2011  premium unleaded (required)      335.0   \n",
       "1  BMW    1 Series  2011  premium unleaded (required)      300.0   \n",
       "2  BMW    1 Series  2011  premium unleaded (required)      300.0   \n",
       "3  BMW    1 Series  2011  premium unleaded (required)      230.0   \n",
       "4  BMW    1 Series  2011  premium unleaded (required)      230.0   \n",
       "\n",
       "   Engine Cylinders Transmission Type     Driven_Wheels  Number of Doors  \\\n",
       "0               6.0            MANUAL  rear wheel drive              2.0   \n",
       "1               6.0            MANUAL  rear wheel drive              2.0   \n",
       "2               6.0            MANUAL  rear wheel drive              2.0   \n",
       "3               6.0            MANUAL  rear wheel drive              2.0   \n",
       "4               6.0            MANUAL  rear wheel drive              2.0   \n",
       "\n",
       "                         Market Category Vehicle Size Vehicle Style  \\\n",
       "0  Factory Tuner,Luxury,High-Performance      Compact         Coupe   \n",
       "1                     Luxury,Performance      Compact   Convertible   \n",
       "2                Luxury,High-Performance      Compact         Coupe   \n",
       "3                     Luxury,Performance      Compact         Coupe   \n",
       "4                                 Luxury      Compact   Convertible   \n",
       "\n",
       "   highway MPG  city mpg  Popularity   MSRP  Mileage Efficiency  \n",
       "0           26        19        3916  46135                22.5  \n",
       "1           28        19        3916  40650                23.5  \n",
       "2           28        20        3916  36350                24.0  \n",
       "3           28        18        3916  29450                23.0  \n",
       "4           28        18        3916  34500                23.0  "
      ]
     },
     "execution_count": 9,
     "metadata": {},
     "output_type": "execute_result"
    }
   ],
   "source": [
    "from scipy import stats\n",
    "import numpy as np\n",
    "\n",
    "# Outlier removal using z-scores for 'Engine HP' and 'MSRP'\n",
    "z_scores = np.abs(stats.zscore(df[['Engine HP', 'MSRP']]))\n",
    "df = df[(z_scores < 3).all(axis=1)]\n",
    "\n",
    "# Feature engineering: create a mileage efficiency feature\n",
    "df['Mileage Efficiency'] = (df['highway MPG'] + df['city mpg']) / 2\n",
    "\n",
    "# Display the dataset after cleaning and feature engineering\n",
    "df.head()"
   ]
  },
  {
   "cell_type": "markdown",
   "id": "10f4a0ed-93b0-481a-9edc-d38dbeac8f90",
   "metadata": {},
   "source": [
    "## Splitting the Dataset for Training and Testing"
   ]
  },
  {
   "cell_type": "code",
   "execution_count": 11,
   "id": "42e8a23d-d6a3-4623-9a40-6bd8115d4520",
   "metadata": {},
   "outputs": [
    {
     "name": "stdout",
     "output_type": "stream",
     "text": [
      "Training set size: (9274, 5)\n",
      "Testing set size: (2319, 5)\n"
     ]
    }
   ],
   "source": [
    "from sklearn.model_selection import train_test_split\n",
    "\n",
    "# Define features and target variable\n",
    "X = df[['Engine HP', 'Engine Cylinders', 'highway MPG', 'city mpg', 'Popularity']]\n",
    "y = df['MSRP']\n",
    "\n",
    "# Split the dataset into training and testing sets\n",
    "X_train, X_test, y_train, y_test = train_test_split(X, y, test_size=0.2, random_state=42)\n",
    "\n",
    "# Display the size of the training and testing sets\n",
    "print(\"Training set size:\", X_train.shape)\n",
    "print(\"Testing set size:\", X_test.shape)"
   ]
  },
  {
   "cell_type": "markdown",
   "id": "3f9e6b75-1555-4d27-8715-2dbb10440e94",
   "metadata": {},
   "source": [
    "## Base Parameter Predictions and Metrics (Linear, Ridge, Lasso, and Random Forest)"
   ]
  },
  {
   "cell_type": "code",
   "execution_count": 43,
   "id": "a877757f-fe4f-4176-85fb-8dc948a3c3b4",
   "metadata": {
    "scrolled": true
   },
   "outputs": [
    {
     "name": "stdout",
     "output_type": "stream",
     "text": [
      "Linear Regression Evaluation:\n",
      "MAE: 10865.66155216249\n",
      "MSE: 305275370.496221\n",
      "R² Score: 0.6147920551879329\n",
      "\n",
      "Ridge Regression Evaluation:\n",
      "MAE: 10865.670099795181\n",
      "MSE: 305275440.82588416\n",
      "R² Score: 0.6147919664433187\n",
      "\n",
      "Lasso Regression Evaluation:\n",
      "MAE: 10865.709253240026\n",
      "MSE: 305267137.5297782\n",
      "R² Score: 0.6148024438546569\n",
      "\n",
      "Random Forest Evaluation:\n",
      "MAE: 3402.672616602555\n",
      "MSE: 34881184.724987455\n",
      "R² Score: 0.955985609128304\n"
     ]
    }
   ],
   "source": [
    "# Predictions\n",
    "y_pred_linear = linear_model.predict(X_test)\n",
    "y_pred_ridge = ridge_model.predict(X_test)\n",
    "y_pred_lasso = lasso_model.predict(X_test)\n",
    "y_pred_rf = rf_model.predict(X_test)\n",
    "\n",
    "# Evaluation for Linear Regression\n",
    "print(\"Linear Regression Evaluation:\")\n",
    "print(\"MAE:\", mean_absolute_error(y_test, y_pred_linear))\n",
    "print(\"MSE:\", mean_squared_error(y_test, y_pred_linear))\n",
    "print(\"R² Score:\", r2_score(y_test, y_pred_linear))\n",
    "\n",
    "# Evaluation for Ridge Regression\n",
    "print(\"\\nRidge Regression Evaluation:\")\n",
    "print(\"MAE:\", mean_absolute_error(y_test, y_pred_ridge))\n",
    "print(\"MSE:\", mean_squared_error(y_test, y_pred_ridge))\n",
    "print(\"R² Score:\", r2_score(y_test, y_pred_ridge))\n",
    "\n",
    "# Evaluation for Lasso Regression\n",
    "print(\"\\nLasso Regression Evaluation:\")\n",
    "print(\"MAE:\", mean_absolute_error(y_test, y_pred_lasso))\n",
    "print(\"MSE:\", mean_squared_error(y_test, y_pred_lasso))\n",
    "print(\"R² Score:\", r2_score(y_test, y_pred_lasso))\n",
    "\n",
    "# Evaluation for Random Forest\n",
    "print(\"\\nRandom Forest Evaluation:\")\n",
    "print(\"MAE:\", mean_absolute_error(y_test, y_pred_rf))\n",
    "print(\"MSE:\", mean_squared_error(y_test, y_pred_rf))\n",
    "print(\"R² Score:\", r2_score(y_test, y_pred_rf))"
   ]
  },
  {
   "cell_type": "markdown",
   "id": "8cc241e4-0a24-4612-8970-f48e8e6d4fff",
   "metadata": {},
   "source": [
    "## Visualizing Base Model Predictions"
   ]
  },
  {
   "cell_type": "code",
   "execution_count": 47,
   "id": "ec8fb955-87e3-4433-8e1d-7d02a9d65638",
   "metadata": {},
   "outputs": [
    {
     "data": {
      "image/png": "[encoded data removed]",
      "text/plain": [
       "<Figure size 1000x600 with 1 Axes>"
      ]
     },
     "metadata": {},
     "output_type": "display_data"
    }
   ],
   "source": [
    "import matplotlib.pyplot as plt\n",
    "import seaborn as sns\n",
    "\n",
    "# Visualizing Actual vs Predicted Prices for Random Forest\n",
    "plt.figure(figsize=(10,6))\n",
    "sns.scatterplot(x=y_test, y=y_pred_rf, label='Random Forest')\n",
    "sns.lineplot(x=y_test, y=y_test, color='red', label='Ideal Prediction')\n",
    "plt.xlabel('Actual Prices')\n",
    "plt.ylabel('Predicted Prices')\n",
    "plt.title('Random Forest: Actual vs Predicted Prices')\n",
    "plt.legend()\n",
    "plt.show()"
   ]
  },
  {
   "cell_type": "markdown",
   "id": "3376dcb1-4317-4588-917a-b710fa9714a7",
   "metadata": {},
   "source": [
    "## Hyperparameter Tuning for Random Forest"
   ]
  },
  {
   "cell_type": "code",
   "execution_count": 50,
   "id": "f255f23a-8e2d-48f8-ac20-d5c46360e713",
   "metadata": {},
   "outputs": [
    {
     "name": "stdout",
     "output_type": "stream",
     "text": [
      "Best Random Forest Parameters: {'max_depth': None, 'min_samples_split': 2, 'n_estimators': 100}\n"
     ]
    }
   ],
   "source": [
    "from sklearn.model_selection import GridSearchCV\n",
    "\n",
    "# Hyperparameter tuning for Random Forest\n",
    "param_grid_rf = {\n",
    "    'n_estimators': [100, 200],\n",
    "    'max_depth': [None, 10, 20],\n",
    "    'min_samples_split': [2, 5, 10]\n",
    "}\n",
    "\n",
    "grid_search_rf = GridSearchCV(estimator=rf_model, param_grid=param_grid_rf, cv=3, scoring='r2', n_jobs=-1)\n",
    "grid_search_rf.fit(X_train, y_train)\n",
    "\n",
    "# Best model after tuning\n",
    "best_rf_model = grid_search_rf.best_estimator_\n",
    "print(\"Best Random Forest Parameters:\", grid_search_rf.best_params_)"
   ]
  },
  {
   "cell_type": "markdown",
   "id": "e52ed3d8-1517-42f8-bfe5-3b6a4479627b",
   "metadata": {},
   "source": [
    "## Testing the Tuned Random Forest Model"
   ]
  },
  {
   "cell_type": "code",
   "execution_count": 53,
   "id": "109b2146-9564-4cc9-be4b-d10db878fec5",
   "metadata": {},
   "outputs": [
    {
     "name": "stdout",
     "output_type": "stream",
     "text": [
      "\n",
      "Best Random Forest Evaluation (After Hyperparameter Tuning):\n",
      "MAE: 3402.672616602555\n",
      "MSE: 34881184.724987455\n",
      "R² Score: 0.955985609128304\n"
     ]
    }
   ],
   "source": [
    "# Predictions with the best estimator\n",
    "y_pred_best_rf = best_rf_model.predict(X_test)\n",
    "\n",
    "# Evaluation of the tuned Random Forest model\n",
    "print(\"\\nBest Random Forest Evaluation (After Hyperparameter Tuning):\")\n",
    "print(\"MAE:\", mean_absolute_error(y_test, y_pred_best_rf))\n",
    "print(\"MSE:\", mean_squared_error(y_test, y_pred_best_rf))\n",
    "print(\"R² Score:\", r2_score(y_test, y_pred_best_rf))"
   ]
  },
  {
   "cell_type": "markdown",
   "id": "436d1539-0189-4538-a44e-4bae51a340ea",
   "metadata": {},
   "source": [
    "## Hyperparameter Tuning for Ridge Regression"
   ]
  },
  {
   "cell_type": "code",
   "execution_count": 56,
   "id": "867f912b-b212-4865-bd0d-e928a1fae4ab",
   "metadata": {},
   "outputs": [
    {
     "name": "stdout",
     "output_type": "stream",
     "text": [
      "Best Ridge Parameters: {'alpha': 10.0, 'solver': 'svd'}\n"
     ]
    }
   ],
   "source": [
    "# Hyperparameter tuning for Ridge Regression\n",
    "param_grid_ridge = {\n",
    "    'alpha': [0.1, 1.0, 10.0],\n",
    "    'solver': ['auto', 'svd', 'cholesky', 'lsqr']\n",
    "}\n",
    "\n",
    "grid_search_ridge = GridSearchCV(estimator=ridge_model, param_grid=param_grid_ridge, cv=3, scoring='r2', n_jobs=-1)\n",
    "grid_search_ridge.fit(X_train, y_train)\n",
    "\n",
    "# Best model after tuning\n",
    "best_ridge_model = grid_search_ridge.best_estimator_\n",
    "print(\"Best Ridge Parameters:\", grid_search_ridge.best_params_)"
   ]
  },
  {
   "cell_type": "markdown",
   "id": "5598fa26-2147-467e-a5d2-b5b5e9e6d125",
   "metadata": {},
   "source": [
    "## Testing the Tuned Ridge Model"
   ]
  },
  {
   "cell_type": "code",
   "execution_count": 59,
   "id": "e5244df0-0cc0-4b19-bcec-9ef94dfbdb63",
   "metadata": {},
   "outputs": [
    {
     "name": "stdout",
     "output_type": "stream",
     "text": [
      "\n",
      "Best Ridge Evaluation (After Hyperparameter Tuning):\n",
      "MAE: 10865.746890875896\n",
      "MSE: 305276058.8300724\n",
      "R² Score: 0.614791186622389\n"
     ]
    }
   ],
   "source": [
    "# Predictions with the best Ridge estimator\n",
    "y_pred_best_ridge = best_ridge_model.predict(X_test)\n",
    "\n",
    "# Evaluation of the tuned Ridge model\n",
    "print(\"\\nBest Ridge Evaluation (After Hyperparameter Tuning):\")\n",
    "print(\"MAE:\", mean_absolute_error(y_test, y_pred_best_ridge))\n",
    "print(\"MSE:\", mean_squared_error(y_test, y_pred_best_ridge))\n",
    "print(\"R² Score:\", r2_score(y_test, y_pred_best_ridge))"
   ]
  },
  {
   "cell_type": "markdown",
   "id": "1dd9b8e5-bea5-411f-97f1-7e8c2157945c",
   "metadata": {},
   "source": [
    "## Hyperparameter Tuning for Lasso Regression"
   ]
  },
  {
   "cell_type": "code",
   "execution_count": 62,
   "id": "308321e2-65ab-46eb-8fd7-ff141eb7bca3",
   "metadata": {},
   "outputs": [
    {
     "name": "stdout",
     "output_type": "stream",
     "text": [
      "Best Lasso Parameters: {'alpha': 0.01}\n"
     ]
    }
   ],
   "source": [
    "# Hyperparameter tuning for Lasso Regression\n",
    "param_grid_lasso = {\n",
    "    'alpha': [0.01, 0.1, 1.0, 10.0]\n",
    "}\n",
    "\n",
    "grid_search_lasso = GridSearchCV(estimator=lasso_model, param_grid=param_grid_lasso, cv=3, scoring='r2', n_jobs=-1)\n",
    "grid_search_lasso.fit(X_train, y_train)\n",
    "\n",
    "# Best model after tuning\n",
    "best_lasso_model = grid_search_lasso.best_estimator_\n",
    "print(\"Best Lasso Parameters:\", grid_search_lasso.best_params_)"
   ]
  },
  {
   "cell_type": "markdown",
   "id": "7933e54c-018f-482a-a870-f6fb79be311e",
   "metadata": {},
   "source": [
    "# Testing the Tuned Lasso Model"
   ]
  },
  {
   "cell_type": "code",
   "execution_count": 66,
   "id": "33a835a0-a13d-4db4-a4bf-4d012538ba81",
   "metadata": {},
   "outputs": [
    {
     "name": "stdout",
     "output_type": "stream",
     "text": [
      "\n",
      "Best Lasso Evaluation (After Hyperparameter Tuning):\n",
      "MAE: 10865.662029004765\n",
      "MSE: 305275288.0875536\n",
      "R² Score: 0.6147921591742891\n"
     ]
    }
   ],
   "source": [
    "# Predictions with the best Lasso estimator\n",
    "y_pred_best_lasso = best_lasso_model.predict(X_test)\n",
    "\n",
    "# Evaluation of the tuned Lasso model\n",
    "print(\"\\nBest Lasso Evaluation (After Hyperparameter Tuning):\")\n",
    "print(\"MAE:\", mean_absolute_error(y_test, y_pred_best_lasso))\n",
    "print(\"MSE:\", mean_squared_error(y_test, y_pred_best_lasso))\n",
    "print(\"R² Score:\", r2_score(y_test, y_pred_best_lasso))"
   ]
  },
  {
   "cell_type": "markdown",
   "id": "7c6f93d9-0ec1-4f6f-bc31-549fdc548381",
   "metadata": {},
   "source": [
    "## Visualizing Comparison of All Models (Tuned)"
   ]
  },
  {
   "cell_type": "code",
   "execution_count": 74,
   "id": "37455c15-a32c-4cfe-bf81-5754e83dcbcf",
   "metadata": {},
   "outputs": [
    {
     "data": {
      "image/png": "[encoded data removed]",
      "text/plain": [
       "<Figure size 1000x600 with 1 Axes>"
      ]
     },
     "metadata": {},
     "output_type": "display_data"
    }
   ],
   "source": [
    "# Plot comparison between Tuned Ridge, Lasso, and Random Forest with different colors\n",
    "plt.figure(figsize=(10,6))\n",
    "\n",
    "# Custom colors for the plots\n",
    "sns.scatterplot(x=y_test, y=y_pred_best_ridge, label='Tuned Ridge', color='blue')\n",
    "sns.scatterplot(x=y_test, y=y_pred_best_lasso, label='Tuned Lasso', color='green')\n",
    "sns.scatterplot(x=y_test, y=y_pred_best_rf, label='Tuned Random Forest', color='orange')\n",
    "\n",
    "# Ideal prediction line\n",
    "sns.lineplot(x=y_test, y=y_test, color='red', label='Ideal Prediction')\n",
    "\n",
    "# Customizing plot labels and title\n",
    "plt.xlabel('Actual Prices')\n",
    "plt.ylabel('Predicted Prices')\n",
    "plt.title('Comparison of Tuned Ridge, Lasso, and Random Forest: Actual vs Predicted Prices')\n",
    "plt.legend()\n",
    "\n",
    "# Show the plot\n",
    "plt.show()"
   ]
  },
  {
   "cell_type": "markdown",
   "id": "9bdc5d15-e843-4740-b6c4-655ab9dec826",
   "metadata": {},
   "source": [
    "# Final Conclusion Summary\n",
    "\n",
    "1. **Linear Regression**:\n",
    "   - The simplest model, Linear Regression, served as a baseline with an R² score of 0.6147920551879329.\n",
    "   - While easy to interpret, it was not as effective as other models due to the complexity of the data.\n",
    "     \n",
    "\n",
    "2. **Ridge Regression**:\n",
    "   - After tuning, Ridge Regression improved, achieving an R² score of 0.6147919664433187.\n",
    "   - The model performed better than the base Linear Regression but was still outperformed by Random Forest and Lasso in terms of accuracy.\n",
    "     \n",
    "\n",
    "3. **Lasso Regression**:\n",
    "   - The Lasso model performed similarly to Ridge but offered an additional advantage of feature selection due to L1 regularization.\n",
    "   - After tuning, Lasso achieved an R² score of 0.6148024438546569.\n",
    "     \n",
    "\n",
    "4. **Random Forest**:\n",
    "   - The Random Forest model initially performed well with an R² score of 0.955985609128304.\n",
    "   - After hyperparameter tuning, it improved further, achieving the highest R² score of  0.955985609128304.\n",
    "   - Random Forest outperformed all other models in terms of prediction accuracy, likely due to its ability to capture complex non-linear relationships.\n",
    "\n",
    "\n",
    "### Final Insights:\n",
    "- **Best Model**: After comparing all models, **Random Forest** was the best-performing model, especially after hyperparameter tuning, making it the most suitable for this dataset.\n",
    "- **Model Interpretation**: While Random Forest had the best accuracy, models like Ridge and Lasso provided more interpretability, especially for identifying key features influencing the target variable."
   ]
  },
  {
   "cell_type": "code",
   "execution_count": null,
   "id": "9db4d7d6-03f3-43c7-9845-039780e303b8",
   "metadata": {},
   "outputs": [],
   "source": []
  }
 ],
 "metadata": {
  "kernelspec": {
   "display_name": "Python 3 (ipykernel)",
   "language": "python",
   "name": "python3"
  },
  "language_info": {
   "codemirror_mode": {
    "name": "ipython",
    "version": 3
   },
   "file_extension": ".py",
   "mimetype": "text/x-python",
   "name": "python",
   "nbconvert_exporter": "python",
   "pygments_lexer": "ipython3",
   "version": "3.12.4"
  }
 },
 "nbformat": 4,
 "nbformat_minor": 5
}
